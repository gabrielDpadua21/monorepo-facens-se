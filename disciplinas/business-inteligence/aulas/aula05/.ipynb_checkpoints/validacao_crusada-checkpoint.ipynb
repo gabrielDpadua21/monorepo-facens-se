{
 "cells": [
  {
   "cell_type": "markdown",
   "metadata": {},
   "source": [
    "## Treinamento e Test - Validação cruzada"
   ]
  },
  {
   "cell_type": "code",
   "execution_count": 1,
   "metadata": {},
   "outputs": [],
   "source": [
    "library(MASS)"
   ]
  },
  {
   "cell_type": "markdown",
   "metadata": {},
   "source": [
    "### Fragmentação da base de dados"
   ]
  },
  {
   "cell_type": "code",
   "execution_count": 9,
   "metadata": {},
   "outputs": [],
   "source": [
    "#### VALIDACAO CRUZADA #### \n",
    "\n",
    "set.seed(123) \n",
    "\n",
    "#Separacao da Base de dados \n",
    "R <- 5 \n",
    "index.split <- split(1:nrow(Boston), sample(rep(1:R,length=nrow(Boston)))) \n",
    "#index <- sample(1:nrow(Boston), 0.7*nrow(Boston)) combn(R,1) \n",
    "\n",
    "#mse <- NULL #Opcao 1 \n",
    "mse <- vector(length = R) \n",
    "\n",
    "for(i in 1:R){ \n",
    "    ### HOLDOUT ### #Separacao Base de Treinamento e Teste \n",
    "    index <- NULL \n",
    "    \n",
    "    for(j in 1:R){ \n",
    "        if(j!=1){ \n",
    "            index <- c(index, index.split[[j]]) \n",
    "        } \n",
    "    } \n",
    "    \n",
    "    treinamento <- Boston[index, ] \n",
    "    teste <- Boston[index.split[[i]],] \n",
    "    \n",
    "    #Rodar modelo (Regressao Linear Multipla) \n",
    "    modelo <- lm(crim ~ .-nox-rm, treinamento) \n",
    "    y_previsto <- predict(modelo, teste[,-1])\n",
    "    \n",
    "    #Comparar resultados #Y \n",
    "    y_real <- teste$crim\n",
    "    \n",
    "    #Y Previsto #y_previsto\n",
    "    \n",
    "    ##MAE #mean(abs(y_real - y_previsto))\n",
    "    \n",
    "    #MSE #mse <- c(mse, mean((y_real - y_previsto)^2)) #opcao 1\n",
    "    \n",
    "    mse[i] <- mean((y_real - y_previsto)^2) #Opcao 2 ##RMSE \n",
    "    \n",
    "    #sqrt(mean((y_real - y_previsto)^2)) ### FIM HOLDOUT ### \n",
    "}  "
   ]
  },
  {
   "cell_type": "code",
   "execution_count": 3,
   "metadata": {},
   "outputs": [
    {
     "data": {
      "text/html": [
       "<style>\n",
       ".list-inline {list-style: none; margin:0; padding: 0}\n",
       ".list-inline>li {display: inline-block}\n",
       ".list-inline>li:not(:last-child)::after {content: \"\\00b7\"; padding: 0 .5ex}\n",
       "</style>\n",
       "<ol class=list-inline><li>25.1840510611377</li><li>41.863186135431</li><li>76.2041719148597</li><li>38.7475500315701</li><li>22.1473886183568</li></ol>\n"
      ],
      "text/latex": [
       "\\begin{enumerate*}\n",
       "\\item 25.1840510611377\n",
       "\\item 41.863186135431\n",
       "\\item 76.2041719148597\n",
       "\\item 38.7475500315701\n",
       "\\item 22.1473886183568\n",
       "\\end{enumerate*}\n"
      ],
      "text/markdown": [
       "1. 25.1840510611377\n",
       "2. 41.863186135431\n",
       "3. 76.2041719148597\n",
       "4. 38.7475500315701\n",
       "5. 22.1473886183568\n",
       "\n",
       "\n"
      ],
      "text/plain": [
       "[1] 25.18405 41.86319 76.20417 38.74755 22.14739"
      ]
     },
     "metadata": {},
     "output_type": "display_data"
    }
   ],
   "source": [
    "mse"
   ]
  },
  {
   "cell_type": "markdown",
   "metadata": {},
   "source": [
    "### Média dos MSE"
   ]
  },
  {
   "cell_type": "markdown",
   "metadata": {},
   "source": [
    "mean(mse) "
   ]
  },
  {
   "cell_type": "markdown",
   "metadata": {},
   "source": [
    "### Devio padrão dos MSE"
   ]
  },
  {
   "cell_type": "code",
   "execution_count": null,
   "metadata": {},
   "outputs": [],
   "source": [
    "sd(mse)"
   ]
  },
  {
   "cell_type": "markdown",
   "metadata": {},
   "source": [
    "### RMSE"
   ]
  },
  {
   "cell_type": "code",
   "execution_count": 5,
   "metadata": {},
   "outputs": [],
   "source": [
    "rmse = sqrt(mse)"
   ]
  },
  {
   "cell_type": "code",
   "execution_count": 6,
   "metadata": {},
   "outputs": [
    {
     "data": {
      "text/html": [
       "<style>\n",
       ".list-inline {list-style: none; margin:0; padding: 0}\n",
       ".list-inline>li {display: inline-block}\n",
       ".list-inline>li:not(:last-child)::after {content: \"\\00b7\"; padding: 0 .5ex}\n",
       "</style>\n",
       "<ol class=list-inline><li>5.01837135544369</li><li>6.47017666956869</li><li>8.72950009535825</li><li>6.22475300968401</li><li>4.7061012120817</li></ol>\n"
      ],
      "text/latex": [
       "\\begin{enumerate*}\n",
       "\\item 5.01837135544369\n",
       "\\item 6.47017666956869\n",
       "\\item 8.72950009535825\n",
       "\\item 6.22475300968401\n",
       "\\item 4.7061012120817\n",
       "\\end{enumerate*}\n"
      ],
      "text/markdown": [
       "1. 5.01837135544369\n",
       "2. 6.47017666956869\n",
       "3. 8.72950009535825\n",
       "4. 6.22475300968401\n",
       "5. 4.7061012120817\n",
       "\n",
       "\n"
      ],
      "text/plain": [
       "[1] 5.018371 6.470177 8.729500 6.224753 4.706101"
      ]
     },
     "metadata": {},
     "output_type": "display_data"
    }
   ],
   "source": [
    "rmse"
   ]
  },
  {
   "cell_type": "code",
   "execution_count": 7,
   "metadata": {},
   "outputs": [
    {
     "data": {
      "text/html": [
       "6.22978046842727"
      ],
      "text/latex": [
       "6.22978046842727"
      ],
      "text/markdown": [
       "6.22978046842727"
      ],
      "text/plain": [
       "[1] 6.22978"
      ]
     },
     "metadata": {},
     "output_type": "display_data"
    }
   ],
   "source": [
    "mean(rmse)"
   ]
  },
  {
   "cell_type": "code",
   "execution_count": 8,
   "metadata": {},
   "outputs": [
    {
     "data": {
      "text/html": [
       "1.58867274299697"
      ],
      "text/latex": [
       "1.58867274299697"
      ],
      "text/markdown": [
       "1.58867274299697"
      ],
      "text/plain": [
       "[1] 1.588673"
      ]
     },
     "metadata": {},
     "output_type": "display_data"
    }
   ],
   "source": [
    "sd(rmse)"
   ]
  },
  {
   "cell_type": "code",
   "execution_count": null,
   "metadata": {},
   "outputs": [],
   "source": []
  }
 ],
 "metadata": {
  "kernelspec": {
   "display_name": "R",
   "language": "R",
   "name": "ir"
  },
  "language_info": {
   "codemirror_mode": "r",
   "file_extension": ".r",
   "mimetype": "text/x-r-source",
   "name": "R",
   "pygments_lexer": "r",
   "version": "4.1.1"
  }
 },
 "nbformat": 4,
 "nbformat_minor": 4
}
