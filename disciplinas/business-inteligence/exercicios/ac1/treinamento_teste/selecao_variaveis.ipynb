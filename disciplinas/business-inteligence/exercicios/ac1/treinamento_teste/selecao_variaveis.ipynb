{
 "cells": [
  {
   "cell_type": "markdown",
   "metadata": {},
   "source": [
    "# Exercicio (AC1) - Seleção de Variáveis"
   ]
  },
  {
   "cell_type": "markdown",
   "metadata": {},
   "source": [
    "- Gabriel D. Padua RA 200749\n",
    "- Rafael Prestes RA 200779 \n",
    "- Thomas Elinton RA 130531\n",
    "- Gabriela Fontolan RA 200645\n",
    "- Náthali Yukari RA 200145 "
   ]
  },
  {
   "cell_type": "markdown",
   "metadata": {},
   "source": [
    "### Exportando a base de dados"
   ]
  },
  {
   "cell_type": "code",
   "execution_count": 9,
   "metadata": {},
   "outputs": [
    {
     "data": {
      "text/html": [
       "<table class=\"dataframe\">\n",
       "<caption>A data.frame: 6 × 25</caption>\n",
       "<thead>\n",
       "\t<tr><th></th><th scope=col>X</th><th scope=col>id</th><th scope=col>x1</th><th scope=col>x2</th><th scope=col>x3</th><th scope=col>x4</th><th scope=col>x5</th><th scope=col>x6</th><th scope=col>x7</th><th scope=col>x8</th><th scope=col>⋯</th><th scope=col>x14</th><th scope=col>x15</th><th scope=col>x16</th><th scope=col>x17</th><th scope=col>x18</th><th scope=col>x19</th><th scope=col>x20</th><th scope=col>x21</th><th scope=col>x22</th><th scope=col>x23</th></tr>\n",
       "\t<tr><th></th><th scope=col>&lt;int&gt;</th><th scope=col>&lt;int&gt;</th><th scope=col>&lt;chr&gt;</th><th scope=col>&lt;chr&gt;</th><th scope=col>&lt;chr&gt;</th><th scope=col>&lt;chr&gt;</th><th scope=col>&lt;chr&gt;</th><th scope=col>&lt;dbl&gt;</th><th scope=col>&lt;dbl&gt;</th><th scope=col>&lt;dbl&gt;</th><th scope=col>⋯</th><th scope=col>&lt;dbl&gt;</th><th scope=col>&lt;dbl&gt;</th><th scope=col>&lt;dbl&gt;</th><th scope=col>&lt;dbl&gt;</th><th scope=col>&lt;dbl&gt;</th><th scope=col>&lt;dbl&gt;</th><th scope=col>&lt;dbl&gt;</th><th scope=col>&lt;dbl&gt;</th><th scope=col>&lt;dbl&gt;</th><th scope=col>&lt;chr&gt;</th></tr>\n",
       "</thead>\n",
       "<tbody>\n",
       "\t<tr><th scope=row>1</th><td>1</td><td>1</td><td>1 to 5 years    </td><td>Magazine industry </td><td>Large (500+)    </td><td>Outside North America</td><td>Direct to customer     </td><td>8.5</td><td>3.9</td><td>2.5</td><td>⋯</td><td>4.7</td><td>4.3</td><td>5.0</td><td>5.1</td><td>3.7</td><td>8.2</td><td>8.0</td><td>8.4</td><td>65.1</td><td>Yes, would consider   </td></tr>\n",
       "\t<tr><th scope=row>2</th><td>2</td><td>2</td><td>Over 5 years    </td><td>Newsprint industry</td><td>Small (0 to 499)</td><td>USA/North America    </td><td>Indirect through broker</td><td>8.2</td><td>2.7</td><td>5.1</td><td>⋯</td><td>5.5</td><td>4.0</td><td>3.9</td><td>4.3</td><td>4.9</td><td>5.7</td><td>6.5</td><td>7.5</td><td>67.1</td><td>No, would not consider</td></tr>\n",
       "\t<tr><th scope=row>3</th><td>3</td><td>3</td><td>Over 5 years    </td><td>Magazine industry </td><td>Large (500+)    </td><td>Outside North America</td><td>Direct to customer     </td><td>9.2</td><td>3.4</td><td>5.6</td><td>⋯</td><td>6.2</td><td>4.6</td><td>5.4</td><td>4.0</td><td>4.5</td><td>8.9</td><td>8.4</td><td>9.0</td><td>72.1</td><td>Yes, would consider   </td></tr>\n",
       "\t<tr><th scope=row>4</th><td>4</td><td>4</td><td>Less than 1 year</td><td>Newsprint industry</td><td>Large (500+)    </td><td>Outside North America</td><td>Indirect through broker</td><td>6.4</td><td>3.3</td><td>7.0</td><td>⋯</td><td>7.0</td><td>3.6</td><td>4.3</td><td>4.1</td><td>3.0</td><td>4.8</td><td>6.0</td><td>7.2</td><td>40.1</td><td>No, would not consider</td></tr>\n",
       "\t<tr><th scope=row>5</th><td>5</td><td>5</td><td>1 to 5 years    </td><td>Magazine industry </td><td>Large (500+)    </td><td>USA/North America    </td><td>Direct to customer     </td><td>9.0</td><td>3.4</td><td>5.2</td><td>⋯</td><td>6.1</td><td>4.5</td><td>4.5</td><td>3.5</td><td>3.5</td><td>7.1</td><td>6.6</td><td>9.0</td><td>57.1</td><td>No, would not consider</td></tr>\n",
       "\t<tr><th scope=row>6</th><td>6</td><td>6</td><td>Less than 1 year</td><td>Newsprint industry</td><td>Small (0 to 499)</td><td>Outside North America</td><td>Indirect through broker</td><td>6.5</td><td>2.8</td><td>3.1</td><td>⋯</td><td>5.1</td><td>9.5</td><td>3.6</td><td>4.7</td><td>3.3</td><td>4.7</td><td>6.3</td><td>6.1</td><td>50.1</td><td>No, would not consider</td></tr>\n",
       "</tbody>\n",
       "</table>\n"
      ],
      "text/latex": [
       "A data.frame: 6 × 25\n",
       "\\begin{tabular}{r|lllllllllllllllllllll}\n",
       "  & X & id & x1 & x2 & x3 & x4 & x5 & x6 & x7 & x8 & ⋯ & x14 & x15 & x16 & x17 & x18 & x19 & x20 & x21 & x22 & x23\\\\\n",
       "  & <int> & <int> & <chr> & <chr> & <chr> & <chr> & <chr> & <dbl> & <dbl> & <dbl> & ⋯ & <dbl> & <dbl> & <dbl> & <dbl> & <dbl> & <dbl> & <dbl> & <dbl> & <dbl> & <chr>\\\\\n",
       "\\hline\n",
       "\t1 & 1 & 1 & 1 to 5 years     & Magazine industry  & Large (500+)     & Outside North America & Direct to customer      & 8.5 & 3.9 & 2.5 & ⋯ & 4.7 & 4.3 & 5.0 & 5.1 & 3.7 & 8.2 & 8.0 & 8.4 & 65.1 & Yes, would consider   \\\\\n",
       "\t2 & 2 & 2 & Over 5 years     & Newsprint industry & Small (0 to 499) & USA/North America     & Indirect through broker & 8.2 & 2.7 & 5.1 & ⋯ & 5.5 & 4.0 & 3.9 & 4.3 & 4.9 & 5.7 & 6.5 & 7.5 & 67.1 & No, would not consider\\\\\n",
       "\t3 & 3 & 3 & Over 5 years     & Magazine industry  & Large (500+)     & Outside North America & Direct to customer      & 9.2 & 3.4 & 5.6 & ⋯ & 6.2 & 4.6 & 5.4 & 4.0 & 4.5 & 8.9 & 8.4 & 9.0 & 72.1 & Yes, would consider   \\\\\n",
       "\t4 & 4 & 4 & Less than 1 year & Newsprint industry & Large (500+)     & Outside North America & Indirect through broker & 6.4 & 3.3 & 7.0 & ⋯ & 7.0 & 3.6 & 4.3 & 4.1 & 3.0 & 4.8 & 6.0 & 7.2 & 40.1 & No, would not consider\\\\\n",
       "\t5 & 5 & 5 & 1 to 5 years     & Magazine industry  & Large (500+)     & USA/North America     & Direct to customer      & 9.0 & 3.4 & 5.2 & ⋯ & 6.1 & 4.5 & 4.5 & 3.5 & 3.5 & 7.1 & 6.6 & 9.0 & 57.1 & No, would not consider\\\\\n",
       "\t6 & 6 & 6 & Less than 1 year & Newsprint industry & Small (0 to 499) & Outside North America & Indirect through broker & 6.5 & 2.8 & 3.1 & ⋯ & 5.1 & 9.5 & 3.6 & 4.7 & 3.3 & 4.7 & 6.3 & 6.1 & 50.1 & No, would not consider\\\\\n",
       "\\end{tabular}\n"
      ],
      "text/markdown": [
       "\n",
       "A data.frame: 6 × 25\n",
       "\n",
       "| <!--/--> | X &lt;int&gt; | id &lt;int&gt; | x1 &lt;chr&gt; | x2 &lt;chr&gt; | x3 &lt;chr&gt; | x4 &lt;chr&gt; | x5 &lt;chr&gt; | x6 &lt;dbl&gt; | x7 &lt;dbl&gt; | x8 &lt;dbl&gt; | ⋯ ⋯ | x14 &lt;dbl&gt; | x15 &lt;dbl&gt; | x16 &lt;dbl&gt; | x17 &lt;dbl&gt; | x18 &lt;dbl&gt; | x19 &lt;dbl&gt; | x20 &lt;dbl&gt; | x21 &lt;dbl&gt; | x22 &lt;dbl&gt; | x23 &lt;chr&gt; |\n",
       "|---|---|---|---|---|---|---|---|---|---|---|---|---|---|---|---|---|---|---|---|---|---|\n",
       "| 1 | 1 | 1 | 1 to 5 years     | Magazine industry  | Large (500+)     | Outside North America | Direct to customer      | 8.5 | 3.9 | 2.5 | ⋯ | 4.7 | 4.3 | 5.0 | 5.1 | 3.7 | 8.2 | 8.0 | 8.4 | 65.1 | Yes, would consider    |\n",
       "| 2 | 2 | 2 | Over 5 years     | Newsprint industry | Small (0 to 499) | USA/North America     | Indirect through broker | 8.2 | 2.7 | 5.1 | ⋯ | 5.5 | 4.0 | 3.9 | 4.3 | 4.9 | 5.7 | 6.5 | 7.5 | 67.1 | No, would not consider |\n",
       "| 3 | 3 | 3 | Over 5 years     | Magazine industry  | Large (500+)     | Outside North America | Direct to customer      | 9.2 | 3.4 | 5.6 | ⋯ | 6.2 | 4.6 | 5.4 | 4.0 | 4.5 | 8.9 | 8.4 | 9.0 | 72.1 | Yes, would consider    |\n",
       "| 4 | 4 | 4 | Less than 1 year | Newsprint industry | Large (500+)     | Outside North America | Indirect through broker | 6.4 | 3.3 | 7.0 | ⋯ | 7.0 | 3.6 | 4.3 | 4.1 | 3.0 | 4.8 | 6.0 | 7.2 | 40.1 | No, would not consider |\n",
       "| 5 | 5 | 5 | 1 to 5 years     | Magazine industry  | Large (500+)     | USA/North America     | Direct to customer      | 9.0 | 3.4 | 5.2 | ⋯ | 6.1 | 4.5 | 4.5 | 3.5 | 3.5 | 7.1 | 6.6 | 9.0 | 57.1 | No, would not consider |\n",
       "| 6 | 6 | 6 | Less than 1 year | Newsprint industry | Small (0 to 499) | Outside North America | Indirect through broker | 6.5 | 2.8 | 3.1 | ⋯ | 5.1 | 9.5 | 3.6 | 4.7 | 3.3 | 4.7 | 6.3 | 6.1 | 50.1 | No, would not consider |\n",
       "\n"
      ],
      "text/plain": [
       "  X id x1               x2                 x3              \n",
       "1 1 1  1 to 5 years     Magazine industry  Large (500+)    \n",
       "2 2 2  Over 5 years     Newsprint industry Small (0 to 499)\n",
       "3 3 3  Over 5 years     Magazine industry  Large (500+)    \n",
       "4 4 4  Less than 1 year Newsprint industry Large (500+)    \n",
       "5 5 5  1 to 5 years     Magazine industry  Large (500+)    \n",
       "6 6 6  Less than 1 year Newsprint industry Small (0 to 499)\n",
       "  x4                    x5                      x6  x7  x8  ⋯ x14 x15 x16 x17\n",
       "1 Outside North America Direct to customer      8.5 3.9 2.5 ⋯ 4.7 4.3 5.0 5.1\n",
       "2 USA/North America     Indirect through broker 8.2 2.7 5.1 ⋯ 5.5 4.0 3.9 4.3\n",
       "3 Outside North America Direct to customer      9.2 3.4 5.6 ⋯ 6.2 4.6 5.4 4.0\n",
       "4 Outside North America Indirect through broker 6.4 3.3 7.0 ⋯ 7.0 3.6 4.3 4.1\n",
       "5 USA/North America     Direct to customer      9.0 3.4 5.2 ⋯ 6.1 4.5 4.5 3.5\n",
       "6 Outside North America Indirect through broker 6.5 2.8 3.1 ⋯ 5.1 9.5 3.6 4.7\n",
       "  x18 x19 x20 x21 x22  x23                   \n",
       "1 3.7 8.2 8.0 8.4 65.1 Yes, would consider   \n",
       "2 4.9 5.7 6.5 7.5 67.1 No, would not consider\n",
       "3 4.5 8.9 8.4 9.0 72.1 Yes, would consider   \n",
       "4 3.0 4.8 6.0 7.2 40.1 No, would not consider\n",
       "5 3.5 7.1 6.6 9.0 57.1 No, would not consider\n",
       "6 3.3 4.7 6.3 6.1 50.1 No, would not consider"
      ]
     },
     "metadata": {},
     "output_type": "display_data"
    }
   ],
   "source": [
    "hbat <- read.csv(file = '../../../data/HBAT.csv')\n",
    "head(hbat)"
   ]
  },
  {
   "cell_type": "markdown",
   "metadata": {},
   "source": [
    "### Gerando modelo utilizando Boostrap com amostragem de repetição de valores"
   ]
  },
  {
   "cell_type": "code",
   "execution_count": 11,
   "metadata": {
    "scrolled": false
   },
   "outputs": [],
   "source": [
    "max = 10000\n",
    "set.seed(123)\n",
    "\n",
    "mse <- vector(length = max)\n",
    "for(i in 1:max){\n",
    "    indexTrain <- sample(1:nrow(hbat), 200, TRUE)\n",
    "    indexTest  <- sample(1:nrow(hbat), 50, TRUE)\n",
    "\n",
    "    train <- hbat[indexTrain, ]\n",
    "    test <- hbat[indexTest, ]\n",
    "    \n",
    "    \n",
    "    modelo <- lm(x19 ~ x7 + x9 + x11 + x12, train)\n",
    "    y_predict <- predict(modelo, test[, c('x7', 'x9', 'x11', 'x12')])\n",
    "    y_real <- hbat$x19[indexTest]\n",
    "    \n",
    "    mse[i] <- mean((y_real - y_predict)^2)\n",
    "}"
   ]
  },
  {
   "cell_type": "markdown",
   "metadata": {},
   "source": [
    "### Calculando a media do MSE"
   ]
  },
  {
   "cell_type": "code",
   "execution_count": 12,
   "metadata": {},
   "outputs": [
    {
     "data": {
      "text/html": [
       "0.498725509265473"
      ],
      "text/latex": [
       "0.498725509265473"
      ],
      "text/markdown": [
       "0.498725509265473"
      ],
      "text/plain": [
       "[1] 0.4987255"
      ]
     },
     "metadata": {},
     "output_type": "display_data"
    }
   ],
   "source": [
    "mean(mse)"
   ]
  },
  {
   "cell_type": "markdown",
   "metadata": {},
   "source": [
    "### Calculando desvio padrão"
   ]
  },
  {
   "cell_type": "code",
   "execution_count": 13,
   "metadata": {},
   "outputs": [
    {
     "data": {
      "text/html": [
       "0.0918502024657823"
      ],
      "text/latex": [
       "0.0918502024657823"
      ],
      "text/markdown": [
       "0.0918502024657823"
      ],
      "text/plain": [
       "[1] 0.0918502"
      ]
     },
     "metadata": {},
     "output_type": "display_data"
    }
   ],
   "source": [
    "sd(mse)"
   ]
  },
  {
   "cell_type": "markdown",
   "metadata": {},
   "source": [
    "### Qual modelo apresentou menor MSE"
   ]
  },
  {
   "cell_type": "code",
   "execution_count": 14,
   "metadata": {},
   "outputs": [
    {
     "data": {
      "text/html": [
       "6571"
      ],
      "text/latex": [
       "6571"
      ],
      "text/markdown": [
       "6571"
      ],
      "text/plain": [
       "[1] 6571"
      ]
     },
     "metadata": {},
     "output_type": "display_data"
    }
   ],
   "source": [
    "which.min(mse)"
   ]
  },
  {
   "cell_type": "markdown",
   "metadata": {},
   "source": [
    "### Histogramas dos valores de MSE"
   ]
  },
  {
   "cell_type": "code",
   "execution_count": 15,
   "metadata": {},
   "outputs": [
    {
     "data": {
      "image/png": "[encoded data removed]",
      "text/plain": [
       "Plot with title “Histogram of mse”"
      ]
     },
     "metadata": {
      "image/png": {
       "height": 420,
       "width": 420
      }
     },
     "output_type": "display_data"
    }
   ],
   "source": [
    "hist(mse)"
   ]
  },
  {
   "cell_type": "markdown",
   "metadata": {},
   "source": [
    "O histograma se aproxima muito da curva normal, deixando claro que o modelo aplicado foi bem sucedido ao \n",
    "realizar as previsões de valores. "
   ]
  },
  {
   "cell_type": "code",
   "execution_count": null,
   "metadata": {},
   "outputs": [],
   "source": []
  }
 ],
 "metadata": {
  "kernelspec": {
   "display_name": "R",
   "language": "R",
   "name": "ir"
  },
  "language_info": {
   "codemirror_mode": "r",
   "file_extension": ".r",
   "mimetype": "text/x-r-source",
   "name": "R",
   "pygments_lexer": "r",
   "version": "4.1.1"
  }
 },
 "nbformat": 4,
 "nbformat_minor": 4
}
